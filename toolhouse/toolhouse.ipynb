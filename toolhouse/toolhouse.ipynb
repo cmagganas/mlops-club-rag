{
 "cells": [
  {
   "cell_type": "code",
   "execution_count": null,
   "metadata": {},
   "outputs": [],
   "source": [
    "!pip install toolhouse anthropic python-dotenv"
   ]
  },
  {
   "cell_type": "code",
   "execution_count": 4,
   "metadata": {},
   "outputs": [
    {
     "name": "stdout",
     "output_type": "stream",
     "text": [
      "Based on the content from the Toolhouse.ai website, here are the key value propositions summarized in three bullet points:\n",
      "\n",
      "1. Simplified AI Function Calling: Toolhouse offers a streamlined developer experience for implementing function calling across various LLMs, allowing developers to avoid writing repetitive code and access a library of tools to enhance LLM capabilities.\n",
      "\n",
      "2. Rapid Tool Integration and Management: The platform provides quick tool discovery, evaluation, and integration through their SDK, supporting multiple LLMs with a single SDK. This includes built-in analytics for easier debugging and optimization.\n",
      "\n",
      "3. Scalable and Cost-Effective Infrastructure: Toolhouse offers a platform that allows developers to define and optimize tools once for use with any supported LLM, providing stable and reliable infrastructure with cost-effective pricing and caching options to improve performance and reduce expenses.\n",
      "\n",
      "These value propositions highlight Toolhouse's focus on improving developer productivity, simplifying AI function implementation, and offering a scalable solution for integrating advanced capabilities into various LLM platforms.\n"
     ]
    }
   ],
   "source": [
    "\n",
    "import os\n",
    "from toolhouse import Toolhouse\n",
    "from anthropic import Anthropic\n",
    "from dotenv import load_dotenv\n",
    "\n",
    "load_dotenv()\n",
    "\n",
    "TOOLHOUSE_API = os.environ[\"TOOLHOUSE_API\"]\n",
    "\n",
    "th = Toolhouse(api_key=TOOLHOUSE_API, provider=\"anthropic\")\n",
    "client = Anthropic(api_key=os.environ[\"ANTHRONPIC_API\"])\n",
    "\n",
    "def llm_call(messages: list[dict]):\n",
    "  return client.messages.create(\n",
    "    model=\"claude-3-5-sonnet-20240620\",\n",
    "    system=\"Respond directly, do not preface or end your responses with anything.\",\n",
    "    max_tokens=1000,\n",
    "    messages=messages,\n",
    "    tools=th.get_tools(),\n",
    "  )\n",
    "\n",
    "messages = [\n",
    "  {\"role\": \"user\", \"content\": \"Get the contents of https://toolhouse.ai and summarize its key value propositions in three bullet points.\"},\n",
    "]\n",
    "\n",
    "response = llm_call(messages)\n",
    "messages += th.run_tools(response, append=True)\n",
    "final_response = llm_call(messages)\n",
    "print(final_response.content[0].text)\n",
    "\n",
    "\n"
   ]
  }
 ],
 "metadata": {
  "kernelspec": {
   "display_name": ".venv",
   "language": "python",
   "name": "python3"
  },
  "language_info": {
   "codemirror_mode": {
    "name": "ipython",
    "version": 3
   },
   "file_extension": ".py",
   "mimetype": "text/x-python",
   "name": "python",
   "nbconvert_exporter": "python",
   "pygments_lexer": "ipython3",
   "version": "3.12.2"
  }
 },
 "nbformat": 4,
 "nbformat_minor": 2
}
